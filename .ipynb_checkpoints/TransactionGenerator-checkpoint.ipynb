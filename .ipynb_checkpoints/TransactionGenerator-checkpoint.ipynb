{
 "cells": [
  {
   "cell_type": "code",
   "execution_count": 1,
   "metadata": {},
   "outputs": [],
   "source": [
    "import pandas as pd\n",
    "from pandas import Series, DataFrame\n",
    "import random\n",
    "import csv\n",
    "from datetime import datetime, time, timedelta\n",
    "import numpy as np"
   ]
  },
  {
   "cell_type": "code",
   "execution_count": 2,
   "metadata": {},
   "outputs": [],
   "source": [
    "bar_df = pd.read_csv('BAR.csv')"
   ]
  },
  {
   "cell_type": "code",
   "execution_count": 3,
   "metadata": {},
   "outputs": [
    {
     "data": {
      "text/html": [
       "<div>\n",
       "<style scoped>\n",
       "    .dataframe tbody tr th:only-of-type {\n",
       "        vertical-align: middle;\n",
       "    }\n",
       "\n",
       "    .dataframe tbody tr th {\n",
       "        vertical-align: top;\n",
       "    }\n",
       "\n",
       "    .dataframe thead th {\n",
       "        text-align: right;\n",
       "    }\n",
       "</style>\n",
       "<table border=\"1\" class=\"dataframe\">\n",
       "  <thead>\n",
       "    <tr style=\"text-align: right;\">\n",
       "      <th></th>\n",
       "      <th>id</th>\n",
       "      <th>Bar</th>\n",
       "      <th>Street</th>\n",
       "      <th>City</th>\n",
       "      <th>State</th>\n",
       "      <th>Phone</th>\n",
       "      <th>License</th>\n",
       "      <th>Open</th>\n",
       "      <th>Close</th>\n",
       "    </tr>\n",
       "  </thead>\n",
       "  <tbody>\n",
       "    <tr>\n",
       "      <th>0</th>\n",
       "      <td>1</td>\n",
       "      <td>TACO BAR</td>\n",
       "      <td>Ap #669-1563 Velit. Ave</td>\n",
       "      <td>San Antonio</td>\n",
       "      <td>New Hampshire</td>\n",
       "      <td>184-137-9394</td>\n",
       "      <td>417478-9703</td>\n",
       "      <td>20:00:00</td>\n",
       "      <td>3:00:00</td>\n",
       "    </tr>\n",
       "    <tr>\n",
       "      <th>1</th>\n",
       "      <td>2</td>\n",
       "      <td>ASPEN HILL BAR &amp; GRILL</td>\n",
       "      <td>5530 Habitant St.</td>\n",
       "      <td>Clarksville</td>\n",
       "      <td>Tennessee</td>\n",
       "      <td>803-182-2749</td>\n",
       "      <td>122581-2526</td>\n",
       "      <td>22:00:00</td>\n",
       "      <td>2:00:00</td>\n",
       "    </tr>\n",
       "    <tr>\n",
       "      <th>2</th>\n",
       "      <td>3</td>\n",
       "      <td>Il Fornaio</td>\n",
       "      <td>497-2846 Metus Rd.</td>\n",
       "      <td>Fairbanks</td>\n",
       "      <td>New York</td>\n",
       "      <td>697-987-7592</td>\n",
       "      <td>698268-4422</td>\n",
       "      <td>19:00:00</td>\n",
       "      <td>1:00:00</td>\n",
       "    </tr>\n",
       "    <tr>\n",
       "      <th>3</th>\n",
       "      <td>4</td>\n",
       "      <td>Blue Angel</td>\n",
       "      <td>226-6371 Malesuada Rd.</td>\n",
       "      <td>Honolulu</td>\n",
       "      <td>Hawaii</td>\n",
       "      <td>622-163-5121</td>\n",
       "      <td>802054-2166</td>\n",
       "      <td>17:00:00</td>\n",
       "      <td>5:00:00</td>\n",
       "    </tr>\n",
       "    <tr>\n",
       "      <th>4</th>\n",
       "      <td>5</td>\n",
       "      <td>Seven Bamboo</td>\n",
       "      <td>Ap #391-9394 Eleifend Street</td>\n",
       "      <td>Idaho Falls</td>\n",
       "      <td>Idaho</td>\n",
       "      <td>681-819-0612</td>\n",
       "      <td>759258-8235</td>\n",
       "      <td>21:00:00</td>\n",
       "      <td>2:00:00</td>\n",
       "    </tr>\n",
       "  </tbody>\n",
       "</table>\n",
       "</div>"
      ],
      "text/plain": [
       "   id                     Bar                        Street         City  \\\n",
       "0   1                TACO BAR       Ap #669-1563 Velit. Ave  San Antonio   \n",
       "1   2  ASPEN HILL BAR & GRILL             5530 Habitant St.  Clarksville   \n",
       "2   3              Il Fornaio            497-2846 Metus Rd.    Fairbanks   \n",
       "3   4              Blue Angel        226-6371 Malesuada Rd.     Honolulu   \n",
       "4   5            Seven Bamboo  Ap #391-9394 Eleifend Street  Idaho Falls   \n",
       "\n",
       "           State         Phone      License      Open    Close  \n",
       "0  New Hampshire  184-137-9394  417478-9703  20:00:00  3:00:00  \n",
       "1      Tennessee  803-182-2749  122581-2526  22:00:00  2:00:00  \n",
       "2       New York  697-987-7592  698268-4422  19:00:00  1:00:00  \n",
       "3         Hawaii  622-163-5121  802054-2166  17:00:00  5:00:00  \n",
       "4          Idaho  681-819-0612  759258-8235  21:00:00  2:00:00  "
      ]
     },
     "execution_count": 3,
     "metadata": {},
     "output_type": "execute_result"
    }
   ],
   "source": [
    "bar_df.head()"
   ]
  },
  {
   "cell_type": "code",
   "execution_count": 4,
   "metadata": {},
   "outputs": [
    {
     "name": "stdout",
     "output_type": "stream",
     "text": [
      "<class 'pandas.core.frame.DataFrame'>\n",
      "RangeIndex: 250 entries, 0 to 249\n",
      "Data columns (total 9 columns):\n",
      "id         250 non-null int64\n",
      "Bar        250 non-null object\n",
      "Street     250 non-null object\n",
      "City       250 non-null object\n",
      "State      250 non-null object\n",
      "Phone      250 non-null object\n",
      "License    250 non-null object\n",
      "Open       250 non-null object\n",
      "Close      250 non-null object\n",
      "dtypes: int64(1), object(8)\n",
      "memory usage: 17.7+ KB\n"
     ]
    }
   ],
   "source": [
    "bar_df.info()"
   ]
  },
  {
   "cell_type": "code",
   "execution_count": 5,
   "metadata": {},
   "outputs": [],
   "source": [
    "drinker_df = pd.read_csv('DRINKER.csv')"
   ]
  },
  {
   "cell_type": "code",
   "execution_count": 6,
   "metadata": {},
   "outputs": [
    {
     "data": {
      "text/html": [
       "<div>\n",
       "<style scoped>\n",
       "    .dataframe tbody tr th:only-of-type {\n",
       "        vertical-align: middle;\n",
       "    }\n",
       "\n",
       "    .dataframe tbody tr th {\n",
       "        vertical-align: top;\n",
       "    }\n",
       "\n",
       "    .dataframe thead th {\n",
       "        text-align: right;\n",
       "    }\n",
       "</style>\n",
       "<table border=\"1\" class=\"dataframe\">\n",
       "  <thead>\n",
       "    <tr style=\"text-align: right;\">\n",
       "      <th></th>\n",
       "      <th>id</th>\n",
       "      <th>Name</th>\n",
       "      <th>Street</th>\n",
       "      <th>City</th>\n",
       "      <th>State</th>\n",
       "      <th>Phone</th>\n",
       "      <th>SSN</th>\n",
       "      <th>DriverLicense</th>\n",
       "    </tr>\n",
       "  </thead>\n",
       "  <tbody>\n",
       "    <tr>\n",
       "      <th>0</th>\n",
       "      <td>1</td>\n",
       "      <td>Allen Mathis</td>\n",
       "      <td>953-883 Quis Ave</td>\n",
       "      <td>Nashville</td>\n",
       "      <td>Tennessee</td>\n",
       "      <td>720-928-3055</td>\n",
       "      <td>799-38-05</td>\n",
       "      <td>1B416FC0-34C7-C1AC-D325-2A0EEEA27C1F</td>\n",
       "    </tr>\n",
       "    <tr>\n",
       "      <th>1</th>\n",
       "      <td>2</td>\n",
       "      <td>Erich Daugherty</td>\n",
       "      <td>778-1879 Suspendisse Rd.</td>\n",
       "      <td>Seattle</td>\n",
       "      <td>Washington</td>\n",
       "      <td>773-819-8133</td>\n",
       "      <td>612-74-09</td>\n",
       "      <td>64962540-6036-4081-D6A9-88D59329B867</td>\n",
       "    </tr>\n",
       "    <tr>\n",
       "      <th>2</th>\n",
       "      <td>3</td>\n",
       "      <td>Eagan Harris</td>\n",
       "      <td>4251 Sagittis. St.</td>\n",
       "      <td>Columbia</td>\n",
       "      <td>Maryland</td>\n",
       "      <td>652-621-5977</td>\n",
       "      <td>461-32-04</td>\n",
       "      <td>E4A7FF78-8F42-544B-1B66-5021ADEC69F4</td>\n",
       "    </tr>\n",
       "    <tr>\n",
       "      <th>3</th>\n",
       "      <td>4</td>\n",
       "      <td>Katell Gilmore</td>\n",
       "      <td>Ap #932-1403 Erat, Road</td>\n",
       "      <td>Aurora</td>\n",
       "      <td>Colorado</td>\n",
       "      <td>732-954-7751</td>\n",
       "      <td>350-72-01</td>\n",
       "      <td>45EF065B-44C0-2995-7A1F-AA9C9F82AA8D</td>\n",
       "    </tr>\n",
       "    <tr>\n",
       "      <th>4</th>\n",
       "      <td>5</td>\n",
       "      <td>Solomon Ratliff</td>\n",
       "      <td>P.O. Box 377, 4676 Arcu. Avenue</td>\n",
       "      <td>Jonesboro</td>\n",
       "      <td>Arkansas</td>\n",
       "      <td>546-950-1691</td>\n",
       "      <td>201-01-01</td>\n",
       "      <td>E00EADAD-DF6F-50F3-CA2C-91C977200350</td>\n",
       "    </tr>\n",
       "  </tbody>\n",
       "</table>\n",
       "</div>"
      ],
      "text/plain": [
       "   id             Name                           Street       City  \\\n",
       "0   1     Allen Mathis                 953-883 Quis Ave  Nashville   \n",
       "1   2  Erich Daugherty         778-1879 Suspendisse Rd.    Seattle   \n",
       "2   3     Eagan Harris               4251 Sagittis. St.   Columbia   \n",
       "3   4   Katell Gilmore          Ap #932-1403 Erat, Road     Aurora   \n",
       "4   5  Solomon Ratliff  P.O. Box 377, 4676 Arcu. Avenue  Jonesboro   \n",
       "\n",
       "        State         Phone        SSN                         DriverLicense  \n",
       "0   Tennessee  720-928-3055  799-38-05  1B416FC0-34C7-C1AC-D325-2A0EEEA27C1F  \n",
       "1  Washington  773-819-8133  612-74-09  64962540-6036-4081-D6A9-88D59329B867  \n",
       "2    Maryland  652-621-5977  461-32-04  E4A7FF78-8F42-544B-1B66-5021ADEC69F4  \n",
       "3    Colorado  732-954-7751  350-72-01  45EF065B-44C0-2995-7A1F-AA9C9F82AA8D  \n",
       "4    Arkansas  546-950-1691  201-01-01  E00EADAD-DF6F-50F3-CA2C-91C977200350  "
      ]
     },
     "execution_count": 6,
     "metadata": {},
     "output_type": "execute_result"
    }
   ],
   "source": [
    "drinker_df.head()"
   ]
  },
  {
   "cell_type": "code",
   "execution_count": 7,
   "metadata": {},
   "outputs": [
    {
     "name": "stdout",
     "output_type": "stream",
     "text": [
      "<class 'pandas.core.frame.DataFrame'>\n",
      "RangeIndex: 5000 entries, 0 to 4999\n",
      "Data columns (total 8 columns):\n",
      "id               5000 non-null int64\n",
      "Name             5000 non-null object\n",
      "Street           5000 non-null object\n",
      "City             5000 non-null object\n",
      "State            5000 non-null object\n",
      "Phone            5000 non-null object\n",
      "SSN              5000 non-null object\n",
      "DriverLicense    5000 non-null object\n",
      "dtypes: int64(1), object(7)\n",
      "memory usage: 312.6+ KB\n"
     ]
    }
   ],
   "source": [
    "drinker_df.info()"
   ]
  },
  {
   "cell_type": "code",
   "execution_count": 8,
   "metadata": {},
   "outputs": [],
   "source": [
    "def random_date():\n",
    "    return (str(pd.to_datetime(random.choice(pd.bdate_range('2015/1/1', '2018/12/31'))))[:10])"
   ]
  },
  {
   "cell_type": "code",
   "execution_count": 9,
   "metadata": {},
   "outputs": [],
   "source": [
    "def random_time(start,end):\n",
    "    end1= end[0:2]\n",
    "    end2 = end[3:5]\n",
    "    start1 = start[0:2]\n",
    "    start2 = start[3:5]\n",
    "    start_datetime = datetime(2016,8,17,int(start1),int(start2),0,0)\n",
    "    end_datetime = datetime(2016,8,17,int(end1),int(end2),0,0)\n",
    "    delta = end_datetime-start_datetime\n",
    "    inc = random.randrange(delta.total_seconds())\n",
    "    temp = start_datetime+timedelta(seconds=inc)\n",
    "    return (str(temp)[-8:])"
   ]
  },
  {
   "cell_type": "code",
   "execution_count": 10,
   "metadata": {},
   "outputs": [],
   "source": [
    "def random_person(list, key):\n",
    "    values = np.array(list)\n",
    "    searchval = key\n",
    "    ii = np.where(values == searchval)[0]\n",
    "    index_of_state = random.choice(ii)\n",
    "    return index_of_state\n",
    "\n",
    "bar_df = pd.read_csv('BAR.csv')\n",
    "drinker_df = pd.read_csv('DRINKER.csv')\n",
    "\n",
    "bar_state = bar_df.State.tolist()\n",
    "bar_bar_license = bar_df.License.tolist()"
   ]
  },
  {
   "cell_type": "code",
   "execution_count": 11,
   "metadata": {},
   "outputs": [],
   "source": [
    "def lookup_bar_state(lisence_list, state_list, lisence_id):\n",
    "    index = lisence_list.index(lisence_id)\n",
    "    return state_list[index]\n",
    "\n",
    "states = drinker_df.State.tolist()\n",
    "drinker_name = drinker_df.Name.tolist()"
   ]
  },
  {
   "cell_type": "code",
   "execution_count": 12,
   "metadata": {},
   "outputs": [],
   "source": [
    "file = open('BILL.csv', 'w')"
   ]
  },
  {
   "cell_type": "code",
   "execution_count": 13,
   "metadata": {},
   "outputs": [
    {
     "name": "stdout",
     "output_type": "stream",
     "text": [
      "20:00:00\n"
     ]
    },
    {
     "ename": "ValueError",
     "evalue": "invalid literal for int() with base 10: '3:'",
     "output_type": "error",
     "traceback": [
      "\u001b[0;31m---------------------------------------------------------------------------\u001b[0m",
      "\u001b[0;31mValueError\u001b[0m                                Traceback (most recent call last)",
      "\u001b[0;32m<ipython-input-13-2e53fea918c3>\u001b[0m in \u001b[0;36m<module>\u001b[0;34m()\u001b[0m\n\u001b[1;32m     12\u001b[0m             \u001b[0mbar_lisence\u001b[0m \u001b[0;34m=\u001b[0m \u001b[0mbar_df\u001b[0m\u001b[0;34m[\u001b[0m\u001b[0;34m'License'\u001b[0m\u001b[0;34m]\u001b[0m\u001b[0;34m[\u001b[0m\u001b[0mi\u001b[0m\u001b[0;34m]\u001b[0m\u001b[0;34m\u001b[0m\u001b[0m\n\u001b[1;32m     13\u001b[0m \u001b[0;34m\u001b[0m\u001b[0m\n\u001b[0;32m---> 14\u001b[0;31m             \u001b[0mran_time\u001b[0m \u001b[0;34m=\u001b[0m \u001b[0mrandom_time\u001b[0m\u001b[0;34m(\u001b[0m\u001b[0mopen_hour\u001b[0m\u001b[0;34m,\u001b[0m\u001b[0mclose_hour\u001b[0m\u001b[0;34m)\u001b[0m\u001b[0;34m\u001b[0m\u001b[0m\n\u001b[0m\u001b[1;32m     15\u001b[0m             \u001b[0mdate\u001b[0m \u001b[0;34m=\u001b[0m \u001b[0mrandom_date\u001b[0m\u001b[0;34m(\u001b[0m\u001b[0;34m)\u001b[0m\u001b[0;34m\u001b[0m\u001b[0m\n\u001b[1;32m     16\u001b[0m \u001b[0;34m\u001b[0m\u001b[0m\n",
      "\u001b[0;32m<ipython-input-9-347e6bb38c9a>\u001b[0m in \u001b[0;36mrandom_time\u001b[0;34m(start, end)\u001b[0m\n\u001b[1;32m      5\u001b[0m     \u001b[0mstart2\u001b[0m \u001b[0;34m=\u001b[0m \u001b[0mstart\u001b[0m\u001b[0;34m[\u001b[0m\u001b[0;36m3\u001b[0m\u001b[0;34m:\u001b[0m\u001b[0;36m5\u001b[0m\u001b[0;34m]\u001b[0m\u001b[0;34m\u001b[0m\u001b[0m\n\u001b[1;32m      6\u001b[0m     \u001b[0mstart_datetime\u001b[0m \u001b[0;34m=\u001b[0m \u001b[0mdatetime\u001b[0m\u001b[0;34m(\u001b[0m\u001b[0;36m2016\u001b[0m\u001b[0;34m,\u001b[0m\u001b[0;36m8\u001b[0m\u001b[0;34m,\u001b[0m\u001b[0;36m17\u001b[0m\u001b[0;34m,\u001b[0m\u001b[0mint\u001b[0m\u001b[0;34m(\u001b[0m\u001b[0mstart1\u001b[0m\u001b[0;34m)\u001b[0m\u001b[0;34m,\u001b[0m\u001b[0mint\u001b[0m\u001b[0;34m(\u001b[0m\u001b[0mstart2\u001b[0m\u001b[0;34m)\u001b[0m\u001b[0;34m,\u001b[0m\u001b[0;36m0\u001b[0m\u001b[0;34m,\u001b[0m\u001b[0;36m0\u001b[0m\u001b[0;34m)\u001b[0m\u001b[0;34m\u001b[0m\u001b[0m\n\u001b[0;32m----> 7\u001b[0;31m     \u001b[0mend_datetime\u001b[0m \u001b[0;34m=\u001b[0m \u001b[0mdatetime\u001b[0m\u001b[0;34m(\u001b[0m\u001b[0;36m2016\u001b[0m\u001b[0;34m,\u001b[0m\u001b[0;36m8\u001b[0m\u001b[0;34m,\u001b[0m\u001b[0;36m17\u001b[0m\u001b[0;34m,\u001b[0m\u001b[0mint\u001b[0m\u001b[0;34m(\u001b[0m\u001b[0mend1\u001b[0m\u001b[0;34m)\u001b[0m\u001b[0;34m,\u001b[0m\u001b[0mint\u001b[0m\u001b[0;34m(\u001b[0m\u001b[0mend2\u001b[0m\u001b[0;34m)\u001b[0m\u001b[0;34m,\u001b[0m\u001b[0;36m0\u001b[0m\u001b[0;34m,\u001b[0m\u001b[0;36m0\u001b[0m\u001b[0;34m)\u001b[0m\u001b[0;34m\u001b[0m\u001b[0m\n\u001b[0m\u001b[1;32m      8\u001b[0m     \u001b[0mdelta\u001b[0m \u001b[0;34m=\u001b[0m \u001b[0mend_datetime\u001b[0m\u001b[0;34m-\u001b[0m\u001b[0mstart_datetime\u001b[0m\u001b[0;34m\u001b[0m\u001b[0m\n\u001b[1;32m      9\u001b[0m     \u001b[0minc\u001b[0m \u001b[0;34m=\u001b[0m \u001b[0mrandom\u001b[0m\u001b[0;34m.\u001b[0m\u001b[0mrandrange\u001b[0m\u001b[0;34m(\u001b[0m\u001b[0mdelta\u001b[0m\u001b[0;34m.\u001b[0m\u001b[0mtotal_seconds\u001b[0m\u001b[0;34m(\u001b[0m\u001b[0;34m)\u001b[0m\u001b[0;34m)\u001b[0m\u001b[0;34m\u001b[0m\u001b[0m\n",
      "\u001b[0;31mValueError\u001b[0m: invalid literal for int() with base 10: '3:'"
     ]
    }
   ],
   "source": [
    "with open('BAR.csv') as csv_file:\n",
    "    csv_reader = csv.reader(csv_file, delimiter=',')\n",
    "    line_count = 0\n",
    "\n",
    "    for i in range(609):\n",
    "        t = random.randint(25, 43)\n",
    "\n",
    "        print(bar_df['Open'][i])\n",
    "        for j in range(t):\n",
    "            open_hour = bar_df['Open'][i]\n",
    "            close_hour = bar_df['Close'][i]\n",
    "            bar_lisence = bar_df['License'][i]\n",
    "            \n",
    "            ran_time = random_time(open_hour,close_hour)\n",
    "            date = random_date()\n",
    "\n",
    "            st = lookup_bar_state(bar_bar_lisence, bar_state, bar_lisence)\n",
    "            person_name = costumer_name[random_person(states, st)]\n",
    "            s =','\n",
    "            seq = (ran_time, str(date), str(person_name), str(bar_lisence))\n",
    "            temp = s.join(seq)\n",
    "            file.write(temp + '\\n')\n",
    "            print(line_count)\n",
    "            line_count += 1\n",
    "\n",
    "file.close()"
   ]
  },
  {
   "cell_type": "code",
   "execution_count": null,
   "metadata": {},
   "outputs": [],
   "source": []
  },
  {
   "cell_type": "code",
   "execution_count": null,
   "metadata": {},
   "outputs": [],
   "source": []
  },
  {
   "cell_type": "code",
   "execution_count": null,
   "metadata": {},
   "outputs": [],
   "source": []
  },
  {
   "cell_type": "code",
   "execution_count": null,
   "metadata": {},
   "outputs": [],
   "source": []
  }
 ],
 "metadata": {
  "kernelspec": {
   "display_name": "Python 3",
   "language": "python",
   "name": "python3"
  },
  "language_info": {
   "codemirror_mode": {
    "name": "ipython",
    "version": 3
   },
   "file_extension": ".py",
   "mimetype": "text/x-python",
   "name": "python",
   "nbconvert_exporter": "python",
   "pygments_lexer": "ipython3",
   "version": "3.6.5"
  }
 },
 "nbformat": 4,
 "nbformat_minor": 2
}
